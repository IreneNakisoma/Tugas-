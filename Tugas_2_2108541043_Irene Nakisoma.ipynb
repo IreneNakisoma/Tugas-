{
 "cells": [
  {
   "cell_type": "code",
   "execution_count": 1,
   "id": "df81392e",
   "metadata": {},
   "outputs": [
    {
     "name": "stdout",
     "output_type": "stream",
     "text": [
      "['pisang', 'naga', 'mangga', 'pepaya']\n"
     ]
    }
   ],
   "source": [
    "buah = ['pisang', 'naga','mangga','pepaya'] \n",
    "print(buah) "
   ]
  },
  {
   "cell_type": "code",
   "execution_count": 2,
   "id": "876f02b0",
   "metadata": {},
   "outputs": [
    {
     "name": "stdout",
     "output_type": "stream",
     "text": [
      "mangga\n"
     ]
    }
   ],
   "source": [
    "print(buah[2]) "
   ]
  },
  {
   "cell_type": "code",
   "execution_count": 3,
   "id": "7d41148f",
   "metadata": {},
   "outputs": [
    {
     "name": "stdout",
     "output_type": "stream",
     "text": [
      "pepaya\n"
     ]
    }
   ],
   "source": [
    "print(buah[3]) "
   ]
  },
  {
   "cell_type": "code",
   "execution_count": 4,
   "id": "a223c1d9",
   "metadata": {},
   "outputs": [
    {
     "name": "stdout",
     "output_type": "stream",
     "text": [
      "mangga\n"
     ]
    }
   ],
   "source": [
    "print(buah[-2]) "
   ]
  },
  {
   "cell_type": "code",
   "execution_count": 5,
   "id": "695dcabe",
   "metadata": {},
   "outputs": [
    {
     "name": "stdout",
     "output_type": "stream",
     "text": [
      "pepaya\n"
     ]
    }
   ],
   "source": [
    "print(buah[-1]) "
   ]
  },
  {
   "cell_type": "code",
   "execution_count": 7,
   "id": "ac5c4f22",
   "metadata": {},
   "outputs": [
    {
     "name": "stdout",
     "output_type": "stream",
     "text": [
      "['pisang', 'naga', 'mangga', 'kiwi']\n"
     ]
    }
   ],
   "source": [
    "buah[3] = 'kiwi' \n",
    "print(buah) "
   ]
  },
  {
   "cell_type": "code",
   "execution_count": 8,
   "id": "56895216",
   "metadata": {},
   "outputs": [
    {
     "name": "stdout",
     "output_type": "stream",
     "text": [
      "pisang\n"
     ]
    }
   ],
   "source": [
    "print(buah[0]) "
   ]
  },
  {
   "cell_type": "code",
   "execution_count": 9,
   "id": "8d14b4e5",
   "metadata": {},
   "outputs": [
    {
     "name": "stdout",
     "output_type": "stream",
     "text": [
      "['pisang', 'naga', 'mangga', 'kiwi']\n"
     ]
    }
   ],
   "source": [
    "#tidak merubah list \n",
    "print(buah) "
   ]
  },
  {
   "cell_type": "code",
   "execution_count": 2,
   "id": "f9bc2625",
   "metadata": {},
   "outputs": [
    {
     "name": "stdout",
     "output_type": "stream",
     "text": [
      "['putri', 'iren', 'bunga', 'putra', 'rosi']\n"
     ]
    }
   ],
   "source": [
    "nama = ['putri', 'iren', 'bunga', 'putra'] \n",
    "nama.append('rosi')\n",
    "print(nama) "
   ]
  },
  {
   "cell_type": "code",
   "execution_count": 3,
   "id": "87f9002c",
   "metadata": {},
   "outputs": [
    {
     "name": "stdout",
     "output_type": "stream",
     "text": [
      "['rosa', 'putri', 'iren', 'bunga', 'putra', 'rosi']\n"
     ]
    }
   ],
   "source": [
    "nama.insert(0,'rosa') \n",
    "print(nama) "
   ]
  },
  {
   "cell_type": "code",
   "execution_count": 4,
   "id": "4c7f9005",
   "metadata": {},
   "outputs": [
    {
     "name": "stdout",
     "output_type": "stream",
     "text": [
      "['rosa', 'putri', 'iren', 'putra', 'rosi']\n"
     ]
    }
   ],
   "source": [
    "nama.remove('bunga') \n",
    "print(nama) "
   ]
  },
  {
   "cell_type": "code",
   "execution_count": 5,
   "id": "c053b114",
   "metadata": {},
   "outputs": [
    {
     "name": "stdout",
     "output_type": "stream",
     "text": [
      "False\n"
     ]
    }
   ],
   "source": [
    "print('Bunga' in nama) "
   ]
  },
  {
   "cell_type": "code",
   "execution_count": 6,
   "id": "e8e434aa",
   "metadata": {},
   "outputs": [
    {
     "name": "stdout",
     "output_type": "stream",
     "text": [
      "True\n"
     ]
    }
   ],
   "source": [
    "print('iren' in nama) "
   ]
  },
  {
   "cell_type": "code",
   "execution_count": 7,
   "id": "29984d89",
   "metadata": {},
   "outputs": [
    {
     "name": "stdout",
     "output_type": "stream",
     "text": [
      "5\n"
     ]
    }
   ],
   "source": [
    "print(len(nama)) "
   ]
  },
  {
   "cell_type": "code",
   "execution_count": 8,
   "id": "27a1a2f9",
   "metadata": {},
   "outputs": [
    {
     "name": "stdout",
     "output_type": "stream",
     "text": [
      "apel\n",
      "markisa\n",
      "durian\n",
      "anggur\n"
     ]
    }
   ],
   "source": [
    "buah=['apel','markisa','durian','anggur']\n",
    "for jenis in buah:\n",
    "    print(jenis) "
   ]
  },
  {
   "cell_type": "code",
   "execution_count": 4,
   "id": "d572ec47",
   "metadata": {},
   "outputs": [
    {
     "ename": "NameError",
     "evalue": "name 'buah' is not defined",
     "output_type": "error",
     "traceback": [
      "\u001b[1;31m---------------------------------------------------------------------------\u001b[0m",
      "\u001b[1;31mNameError\u001b[0m                                 Traceback (most recent call last)",
      "\u001b[1;32m~\\AppData\\Local\\Temp/ipykernel_196840/365956897.py\u001b[0m in \u001b[0;36m<module>\u001b[1;34m\u001b[0m\n\u001b[0;32m      1\u001b[0m \u001b[0mi\u001b[0m \u001b[1;33m=\u001b[0m \u001b[1;36m0\u001b[0m\u001b[1;33m\u001b[0m\u001b[1;33m\u001b[0m\u001b[0m\n\u001b[1;32m----> 2\u001b[1;33m \u001b[1;32mwhile\u001b[0m \u001b[0mi\u001b[0m \u001b[1;33m<\u001b[0m \u001b[0mlen\u001b[0m \u001b[1;33m(\u001b[0m\u001b[0mbuah\u001b[0m\u001b[1;33m)\u001b[0m\u001b[1;33m:\u001b[0m\u001b[1;33m\u001b[0m\u001b[1;33m\u001b[0m\u001b[0m\n\u001b[0m\u001b[0;32m      3\u001b[0m     \u001b[0mprint\u001b[0m\u001b[1;33m(\u001b[0m\u001b[0mbuah\u001b[0m\u001b[1;33m[\u001b[0m\u001b[0mi\u001b[0m\u001b[1;33m]\u001b[0m\u001b[1;33m)\u001b[0m\u001b[1;33m\u001b[0m\u001b[1;33m\u001b[0m\u001b[0m\n\u001b[0;32m      4\u001b[0m     \u001b[0mi\u001b[0m\u001b[1;33m+=\u001b[0m\u001b[1;36m1\u001b[0m\u001b[1;33m\u001b[0m\u001b[1;33m\u001b[0m\u001b[0m\n",
      "\u001b[1;31mNameError\u001b[0m: name 'buah' is not defined"
     ]
    }
   ],
   "source": [
    "i = 0 \n",
    "while i < len (buah): \n",
    "    print(buah[i]) \n",
    "    i+=1"
   ]
  },
  {
   "cell_type": "code",
   "execution_count": 5,
   "id": "19a6082f",
   "metadata": {},
   "outputs": [
    {
     "name": "stdout",
     "output_type": "stream",
     "text": [
      "range(0, 5)\n"
     ]
    }
   ],
   "source": [
    "angka = range(5) \n",
    "print(angka) "
   ]
  },
  {
   "cell_type": "code",
   "execution_count": 6,
   "id": "066838a4",
   "metadata": {},
   "outputs": [
    {
     "name": "stdout",
     "output_type": "stream",
     "text": [
      "0\n",
      "1\n",
      "2\n",
      "3\n",
      "4\n"
     ]
    }
   ],
   "source": [
    "for isi in angka:\n",
    "    print(isi) "
   ]
  },
  {
   "cell_type": "code",
   "execution_count": 7,
   "id": "2c354fb9",
   "metadata": {},
   "outputs": [
    {
     "name": "stdout",
     "output_type": "stream",
     "text": [
      "6\n",
      "7\n",
      "8\n",
      "9\n"
     ]
    }
   ],
   "source": [
    "for isi in range(6,10): \n",
    "    print(isi) "
   ]
  },
  {
   "cell_type": "code",
   "execution_count": 8,
   "id": "a1cefd1f",
   "metadata": {},
   "outputs": [
    {
     "name": "stdout",
     "output_type": "stream",
     "text": [
      "1\n",
      "3\n",
      "5\n"
     ]
    }
   ],
   "source": [
    "for isi in range (1,6,2):\n",
    "    print(isi) "
   ]
  },
  {
   "cell_type": "code",
   "execution_count": 10,
   "id": "9a0f7317",
   "metadata": {},
   "outputs": [
    {
     "name": "stdout",
     "output_type": "stream",
     "text": [
      "55\n"
     ]
    }
   ],
   "source": [
    "data = [10,11,50,55]\n",
    "terbesar = data[0] \n",
    "for i in range (len(data)): \n",
    "    if data[i] > terbesar: \n",
    "        terbesar = data[i] \n",
    "print(terbesar) "
   ]
  },
  {
   "cell_type": "code",
   "execution_count": 11,
   "id": "bf126565",
   "metadata": {},
   "outputs": [
    {
     "name": "stdout",
     "output_type": "stream",
     "text": [
      "55\n"
     ]
    }
   ],
   "source": [
    "data = [10,11,50,55]\n",
    "terbesar = data[0]\n",
    "for angka in data:\n",
    "    if angka > terbesar:\n",
    "        terbesar = angka \n",
    "print(terbesar) "
   ]
  },
  {
   "cell_type": "code",
   "execution_count": 12,
   "id": "f774fe17",
   "metadata": {},
   "outputs": [
    {
     "name": "stdout",
     "output_type": "stream",
     "text": [
      "[4, 5, 6, 7, 8, 9, 10]\n"
     ]
    }
   ],
   "source": [
    "angka = [4,5,6,7,8,9,10,9,8,7,6,5,4] \n",
    "angka_unik = [] \n",
    "for anggota in angka:\n",
    "    if anggota not in angka_unik:\n",
    "        angka_unik.append(anggota) \n",
    "print(angka_unik) "
   ]
  },
  {
   "cell_type": "code",
   "execution_count": 13,
   "id": "db82d183",
   "metadata": {},
   "outputs": [
    {
     "name": "stdout",
     "output_type": "stream",
     "text": [
      "[[1, 2, 3, 4, 5], [6, 7, 8, 9], [10, 11, 12, 13], [14, 15, 16, 17]]\n"
     ]
    }
   ],
   "source": [
    "matrik = [ \n",
    "    [1,2,3,4,5],\n",
    "    [6,7,8,9], \n",
    "    [10,11,12,13], \n",
    "    [14,15,16,17], \n",
    "] \n",
    "print(matrik) "
   ]
  },
  {
   "cell_type": "code",
   "execution_count": 14,
   "id": "70c05e9a",
   "metadata": {},
   "outputs": [
    {
     "data": {
      "text/plain": [
       "[10, 11, 12, 13]"
      ]
     },
     "execution_count": 14,
     "metadata": {},
     "output_type": "execute_result"
    }
   ],
   "source": [
    "matrik[2] "
   ]
  },
  {
   "cell_type": "code",
   "execution_count": 16,
   "id": "743494f6",
   "metadata": {},
   "outputs": [
    {
     "data": {
      "text/plain": [
       "8"
      ]
     },
     "execution_count": 16,
     "metadata": {},
     "output_type": "execute_result"
    }
   ],
   "source": [
    "matrik [1][2]  "
   ]
  },
  {
   "cell_type": "code",
   "execution_count": 19,
   "id": "b688522e",
   "metadata": {},
   "outputs": [
    {
     "name": "stdout",
     "output_type": "stream",
     "text": [
      "50\n"
     ]
    }
   ],
   "source": [
    "matrik[1][2] = 50\n",
    "print(matrik[1][2])  "
   ]
  },
  {
   "cell_type": "code",
   "execution_count": 20,
   "id": "88ab4a34",
   "metadata": {},
   "outputs": [
    {
     "data": {
      "text/plain": [
       "[[1, 2, 3, 4, 5], [6, 7, 50, 9], [10, 11, 12, 13], [14, 15, 16, 17]]"
      ]
     },
     "execution_count": 20,
     "metadata": {},
     "output_type": "execute_result"
    }
   ],
   "source": [
    "matrik "
   ]
  },
  {
   "cell_type": "code",
   "execution_count": 21,
   "id": "c1f461ff",
   "metadata": {},
   "outputs": [
    {
     "name": "stdout",
     "output_type": "stream",
     "text": [
      "[1, 2, 3, 4, 5]\n",
      "1\n",
      "2\n",
      "3\n",
      "4\n",
      "5\n",
      "[6, 7, 50, 9]\n",
      "6\n",
      "7\n",
      "50\n",
      "9\n",
      "[10, 11, 12, 13]\n",
      "10\n",
      "11\n",
      "12\n",
      "13\n",
      "[14, 15, 16, 17]\n",
      "14\n",
      "15\n",
      "16\n",
      "17\n"
     ]
    }
   ],
   "source": [
    "for baris in matrik: \n",
    "    print(baris) \n",
    "    for kolom in baris: \n",
    "        print(kolom) "
   ]
  },
  {
   "cell_type": "code",
   "execution_count": 22,
   "id": "74ea37ff",
   "metadata": {},
   "outputs": [],
   "source": [
    "angka = (1,2,3,4,5,6,7,8) "
   ]
  },
  {
   "cell_type": "code",
   "execution_count": 23,
   "id": "c7fb7eb2",
   "metadata": {},
   "outputs": [
    {
     "name": "stdout",
     "output_type": "stream",
     "text": [
      "4\n"
     ]
    }
   ],
   "source": [
    "print(4) "
   ]
  },
  {
   "cell_type": "code",
   "execution_count": 24,
   "id": "05be32d6",
   "metadata": {},
   "outputs": [
    {
     "name": "stdout",
     "output_type": "stream",
     "text": [
      "(4, 5, 6)\n"
     ]
    }
   ],
   "source": [
    "print(angka[3:6]) "
   ]
  },
  {
   "cell_type": "code",
   "execution_count": 25,
   "id": "7f729565",
   "metadata": {},
   "outputs": [
    {
     "name": "stdout",
     "output_type": "stream",
     "text": [
      "2\n",
      "3\n",
      "4\n"
     ]
    }
   ],
   "source": [
    "for isi in angka [1:4]:\n",
    "    print(isi) "
   ]
  },
  {
   "cell_type": "code",
   "execution_count": 28,
   "id": "73c785be",
   "metadata": {},
   "outputs": [
    {
     "ename": "TypeError",
     "evalue": "'tuple' object does not support item assignment",
     "output_type": "error",
     "traceback": [
      "\u001b[1;31m---------------------------------------------------------------------------\u001b[0m",
      "\u001b[1;31mTypeError\u001b[0m                                 Traceback (most recent call last)",
      "\u001b[1;32m~\\AppData\\Local\\Temp/ipykernel_196840/2956111598.py\u001b[0m in \u001b[0;36m<module>\u001b[1;34m\u001b[0m\n\u001b[1;32m----> 1\u001b[1;33m \u001b[0mangka\u001b[0m\u001b[1;33m[\u001b[0m\u001b[1;36m0\u001b[0m\u001b[1;33m]\u001b[0m \u001b[1;33m=\u001b[0m \u001b[1;36m10\u001b[0m\u001b[1;33m\u001b[0m\u001b[1;33m\u001b[0m\u001b[0m\n\u001b[0m",
      "\u001b[1;31mTypeError\u001b[0m: 'tuple' object does not support item assignment"
     ]
    }
   ],
   "source": [
    "angka[0] = 10 "
   ]
  },
  {
   "cell_type": "code",
   "execution_count": 29,
   "id": "0dab7c29",
   "metadata": {},
   "outputs": [
    {
     "ename": "AttributeError",
     "evalue": "'tuple' object has no attribute 'append'",
     "output_type": "error",
     "traceback": [
      "\u001b[1;31m---------------------------------------------------------------------------\u001b[0m",
      "\u001b[1;31mAttributeError\u001b[0m                            Traceback (most recent call last)",
      "\u001b[1;32m~\\AppData\\Local\\Temp/ipykernel_196840/675419424.py\u001b[0m in \u001b[0;36m<module>\u001b[1;34m\u001b[0m\n\u001b[1;32m----> 1\u001b[1;33m \u001b[0mangka\u001b[0m\u001b[1;33m.\u001b[0m\u001b[0mappend\u001b[0m\u001b[1;33m(\u001b[0m\u001b[1;36m10\u001b[0m\u001b[1;33m)\u001b[0m\u001b[1;33m\u001b[0m\u001b[1;33m\u001b[0m\u001b[0m\n\u001b[0m",
      "\u001b[1;31mAttributeError\u001b[0m: 'tuple' object has no attribute 'append'"
     ]
    }
   ],
   "source": [
    "angka.append(10) "
   ]
  },
  {
   "cell_type": "code",
   "execution_count": 30,
   "id": "3ccb77f9",
   "metadata": {},
   "outputs": [
    {
     "ename": "AttributeError",
     "evalue": "'tuple' object has no attribute 'remove'",
     "output_type": "error",
     "traceback": [
      "\u001b[1;31m---------------------------------------------------------------------------\u001b[0m",
      "\u001b[1;31mAttributeError\u001b[0m                            Traceback (most recent call last)",
      "\u001b[1;32m~\\AppData\\Local\\Temp/ipykernel_196840/2265258259.py\u001b[0m in \u001b[0;36m<module>\u001b[1;34m\u001b[0m\n\u001b[1;32m----> 1\u001b[1;33m \u001b[0mangka\u001b[0m\u001b[1;33m.\u001b[0m\u001b[0mremove\u001b[0m\u001b[1;33m(\u001b[0m\u001b[1;36m5\u001b[0m\u001b[1;33m)\u001b[0m\u001b[1;33m\u001b[0m\u001b[1;33m\u001b[0m\u001b[0m\n\u001b[0m",
      "\u001b[1;31mAttributeError\u001b[0m: 'tuple' object has no attribute 'remove'"
     ]
    }
   ],
   "source": [
    "angka.remove(5) "
   ]
  },
  {
   "cell_type": "code",
   "execution_count": 31,
   "id": "e2c42c71",
   "metadata": {},
   "outputs": [
    {
     "data": {
      "text/plain": [
       "1"
      ]
     },
     "execution_count": 31,
     "metadata": {},
     "output_type": "execute_result"
    }
   ],
   "source": [
    "angka.count(1) "
   ]
  },
  {
   "cell_type": "code",
   "execution_count": 32,
   "id": "89e5cc9a",
   "metadata": {},
   "outputs": [
    {
     "data": {
      "text/plain": [
       "3"
      ]
     },
     "execution_count": 32,
     "metadata": {},
     "output_type": "execute_result"
    }
   ],
   "source": [
    "angka.index(4) "
   ]
  },
  {
   "cell_type": "code",
   "execution_count": 33,
   "id": "20bf9c47",
   "metadata": {},
   "outputs": [],
   "source": [
    "data_orang = {\n",
    "    \"nama\" : \"Putra Putri\",\n",
    "    \"umur\" : 22, \n",
    "    \"apakah_single\" : True \n",
    "} "
   ]
  },
  {
   "cell_type": "code",
   "execution_count": 34,
   "id": "5183ecc3",
   "metadata": {},
   "outputs": [
    {
     "name": "stdout",
     "output_type": "stream",
     "text": [
      "Putra Putri\n"
     ]
    }
   ],
   "source": [
    "print(data_orang['nama']) "
   ]
  },
  {
   "cell_type": "code",
   "execution_count": 35,
   "id": "4d81b8b0",
   "metadata": {},
   "outputs": [
    {
     "ename": "KeyError",
     "evalue": "'Nama'",
     "output_type": "error",
     "traceback": [
      "\u001b[1;31m---------------------------------------------------------------------------\u001b[0m",
      "\u001b[1;31mKeyError\u001b[0m                                  Traceback (most recent call last)",
      "\u001b[1;32m~\\AppData\\Local\\Temp/ipykernel_196840/4232891708.py\u001b[0m in \u001b[0;36m<module>\u001b[1;34m\u001b[0m\n\u001b[1;32m----> 1\u001b[1;33m \u001b[0mprint\u001b[0m\u001b[1;33m(\u001b[0m\u001b[0mdata_orang\u001b[0m\u001b[1;33m[\u001b[0m\u001b[1;34m'Nama'\u001b[0m\u001b[1;33m]\u001b[0m\u001b[1;33m)\u001b[0m\u001b[1;33m\u001b[0m\u001b[1;33m\u001b[0m\u001b[0m\n\u001b[0m",
      "\u001b[1;31mKeyError\u001b[0m: 'Nama'"
     ]
    }
   ],
   "source": [
    "print(data_orang['Nama']) "
   ]
  },
  {
   "cell_type": "code",
   "execution_count": 36,
   "id": "edcacbdb",
   "metadata": {},
   "outputs": [
    {
     "name": "stdout",
     "output_type": "stream",
     "text": [
      "Putra Putri\n"
     ]
    }
   ],
   "source": [
    "print(data_orang.get('nama')) "
   ]
  },
  {
   "cell_type": "code",
   "execution_count": 37,
   "id": "c3565532",
   "metadata": {},
   "outputs": [
    {
     "name": "stdout",
     "output_type": "stream",
     "text": [
      "None\n"
     ]
    }
   ],
   "source": [
    "print(data_orang.get('Nama')) "
   ]
  },
  {
   "cell_type": "code",
   "execution_count": 38,
   "id": "49812f4d",
   "metadata": {},
   "outputs": [
    {
     "name": "stdout",
     "output_type": "stream",
     "text": [
      "None\n"
     ]
    }
   ],
   "source": [
    "print(data_orang.get('tanggal_lahir')) "
   ]
  },
  {
   "cell_type": "code",
   "execution_count": 39,
   "id": "9a2c3f06",
   "metadata": {},
   "outputs": [
    {
     "name": "stdout",
     "output_type": "stream",
     "text": [
      "2-2-2000\n"
     ]
    }
   ],
   "source": [
    "print(data_orang.get('tanggal_lahir', '2-2-2000')) "
   ]
  },
  {
   "cell_type": "code",
   "execution_count": 41,
   "id": "09a2ae7b",
   "metadata": {},
   "outputs": [
    {
     "name": "stdout",
     "output_type": "stream",
     "text": [
      "{'nama': 'Putra Putri', 'umur': 22, 'apakah_single': True}\n"
     ]
    }
   ],
   "source": [
    "print(data_orang) "
   ]
  },
  {
   "cell_type": "code",
   "execution_count": 42,
   "id": "b80e8e64",
   "metadata": {},
   "outputs": [
    {
     "ename": "KeyError",
     "evalue": "'tanggal_lahir'",
     "output_type": "error",
     "traceback": [
      "\u001b[1;31m---------------------------------------------------------------------------\u001b[0m",
      "\u001b[1;31mKeyError\u001b[0m                                  Traceback (most recent call last)",
      "\u001b[1;32m~\\AppData\\Local\\Temp/ipykernel_196840/1869381114.py\u001b[0m in \u001b[0;36m<module>\u001b[1;34m\u001b[0m\n\u001b[1;32m----> 1\u001b[1;33m \u001b[0mprint\u001b[0m\u001b[1;33m(\u001b[0m\u001b[0mdata_orang\u001b[0m\u001b[1;33m[\u001b[0m\u001b[1;34m\"tanggal_lahir\"\u001b[0m\u001b[1;33m]\u001b[0m\u001b[1;33m)\u001b[0m\u001b[1;33m\u001b[0m\u001b[1;33m\u001b[0m\u001b[0m\n\u001b[0m",
      "\u001b[1;31mKeyError\u001b[0m: 'tanggal_lahir'"
     ]
    }
   ],
   "source": [
    "print(data_orang[\"tanggal_lahir\"]) "
   ]
  },
  {
   "cell_type": "code",
   "execution_count": 43,
   "id": "017dd86b",
   "metadata": {},
   "outputs": [],
   "source": [
    "data_orang['HP'] = '08113744569'"
   ]
  },
  {
   "cell_type": "code",
   "execution_count": 44,
   "id": "c93fcd7a",
   "metadata": {},
   "outputs": [
    {
     "name": "stdout",
     "output_type": "stream",
     "text": [
      "08113744569\n"
     ]
    }
   ],
   "source": [
    "print(data_orang[\"HP\"]) "
   ]
  },
  {
   "cell_type": "code",
   "execution_count": 45,
   "id": "641fc79a",
   "metadata": {},
   "outputs": [
    {
     "name": "stdout",
     "output_type": "stream",
     "text": [
      "{'nama': 'Putra Putri', 'umur': 22, 'apakah_single': True, 'HP': '08113744569'}\n"
     ]
    }
   ],
   "source": [
    "print(data_orang) "
   ]
  },
  {
   "cell_type": "code",
   "execution_count": 48,
   "id": "19ed4d06",
   "metadata": {},
   "outputs": [],
   "source": [
    "angka = {\n",
    "    \"1\" : \"satu\", \n",
    "    \"2\" : \"dua\", \n",
    "    \"3\" : \"tiga\", \n",
    "    \"4\" : \"empat\",\n",
    "    \"5\" : \"lima\",\n",
    "    \"6\" : \"enam\",\n",
    "}   "
   ]
  },
  {
   "cell_type": "code",
   "execution_count": 52,
   "id": "7f081d6e",
   "metadata": {},
   "outputs": [
    {
     "name": "stdout",
     "output_type": "stream",
     "text": [
      "Masukkan nomor HP anda08123456\n"
     ]
    },
    {
     "ename": "TypeError",
     "evalue": "unsupported operand type(s) for +: 'NoneType' and 'str'",
     "output_type": "error",
     "traceback": [
      "\u001b[1;31m---------------------------------------------------------------------------\u001b[0m",
      "\u001b[1;31mTypeError\u001b[0m                                 Traceback (most recent call last)",
      "\u001b[1;32m~\\AppData\\Local\\Temp/ipykernel_196840/560609852.py\u001b[0m in \u001b[0;36m<module>\u001b[1;34m\u001b[0m\n\u001b[0;32m      2\u001b[0m \u001b[0mnomor_angka\u001b[0m \u001b[1;33m=\u001b[0m \u001b[1;34m\"\"\u001b[0m\u001b[1;33m\u001b[0m\u001b[1;33m\u001b[0m\u001b[0m\n\u001b[0;32m      3\u001b[0m \u001b[1;32mfor\u001b[0m \u001b[0misi\u001b[0m \u001b[1;32min\u001b[0m \u001b[0mnomor_HP\u001b[0m\u001b[1;33m:\u001b[0m\u001b[1;33m\u001b[0m\u001b[1;33m\u001b[0m\u001b[0m\n\u001b[1;32m----> 4\u001b[1;33m     \u001b[0mnomor_angka\u001b[0m \u001b[1;33m+=\u001b[0m \u001b[0mangka\u001b[0m\u001b[1;33m.\u001b[0m\u001b[0mget\u001b[0m\u001b[1;33m(\u001b[0m\u001b[0misi\u001b[0m\u001b[1;33m)\u001b[0m \u001b[1;33m+\u001b[0m \u001b[1;34m\" \"\u001b[0m\u001b[1;33m\u001b[0m\u001b[1;33m\u001b[0m\u001b[0m\n\u001b[0m\u001b[0;32m      5\u001b[0m \u001b[0mprint\u001b[0m\u001b[1;33m(\u001b[0m\u001b[0mnomor_angka\u001b[0m\u001b[1;33m)\u001b[0m\u001b[1;33m\u001b[0m\u001b[1;33m\u001b[0m\u001b[0m\n",
      "\u001b[1;31mTypeError\u001b[0m: unsupported operand type(s) for +: 'NoneType' and 'str'"
     ]
    }
   ],
   "source": [
    "nomor_HP = input(\"Masukkan nomor HP anda\") \n",
    "nomor_angka = \"\"\n",
    "for isi in nomor_HP: \n",
    "    nomor_angka += angka.get(isi) + \" \"\n",
    "print(nomor_angka) "
   ]
  },
  {
   "cell_type": "code",
   "execution_count": 53,
   "id": "73718d33",
   "metadata": {},
   "outputs": [],
   "source": [
    "def full_nama(first_name,last_name): \n",
    "    print(f\"Nama lengkapnya adalah {nama_depan} {nama_belakang}\") "
   ]
  },
  {
   "cell_type": "code",
   "execution_count": 55,
   "id": "b6f125b7",
   "metadata": {},
   "outputs": [
    {
     "name": "stdout",
     "output_type": "stream",
     "text": [
      "Nama depan anda adalahIrene \n",
      "Nama belakang anda adalahNakisoma\n"
     ]
    },
    {
     "ename": "NameError",
     "evalue": "name 'nama_depan' is not defined",
     "output_type": "error",
     "traceback": [
      "\u001b[1;31m---------------------------------------------------------------------------\u001b[0m",
      "\u001b[1;31mNameError\u001b[0m                                 Traceback (most recent call last)",
      "\u001b[1;32m~\\AppData\\Local\\Temp/ipykernel_196840/653434169.py\u001b[0m in \u001b[0;36m<module>\u001b[1;34m\u001b[0m\n\u001b[0;32m      1\u001b[0m \u001b[0mfirst_name\u001b[0m \u001b[1;33m=\u001b[0m \u001b[0minput\u001b[0m\u001b[1;33m(\u001b[0m\u001b[1;34m\"Nama depan anda adalah\"\u001b[0m\u001b[1;33m)\u001b[0m\u001b[1;33m\u001b[0m\u001b[1;33m\u001b[0m\u001b[0m\n\u001b[0;32m      2\u001b[0m \u001b[0mlast_name\u001b[0m \u001b[1;33m=\u001b[0m \u001b[0minput\u001b[0m\u001b[1;33m(\u001b[0m\u001b[1;34m\"Nama belakang anda adalah\"\u001b[0m\u001b[1;33m)\u001b[0m\u001b[1;33m\u001b[0m\u001b[1;33m\u001b[0m\u001b[0m\n\u001b[1;32m----> 3\u001b[1;33m \u001b[0mfull_nama\u001b[0m\u001b[1;33m(\u001b[0m\u001b[0mnama_depan\u001b[0m\u001b[1;33m,\u001b[0m\u001b[0mnama_belakang\u001b[0m\u001b[1;33m)\u001b[0m\u001b[1;33m\u001b[0m\u001b[1;33m\u001b[0m\u001b[0m\n\u001b[0m",
      "\u001b[1;31mNameError\u001b[0m: name 'nama_depan' is not defined"
     ]
    }
   ],
   "source": [
    "first_name = input(\"Nama depan anda adalah\") \n",
    "last_name = input(\"Nama belakang anda adalah\") \n",
    "full_nama(nama_depan,nama_belakang) "
   ]
  },
  {
   "cell_type": "code",
   "execution_count": 56,
   "id": "f22c1ef5",
   "metadata": {},
   "outputs": [],
   "source": [
    "def waktu_sampai(jarak,kecepatan): \n",
    "    waktu = jarak/kecepatan \n",
    "    print(waktu) "
   ]
  },
  {
   "cell_type": "code",
   "execution_count": 57,
   "id": "c67e2b37",
   "metadata": {},
   "outputs": [],
   "source": [
    "def waktu_tempuh(jarak,kecepatan):\n",
    "    waktu = jarak/kecepatan \n",
    "    return waktu "
   ]
  },
  {
   "cell_type": "code",
   "execution_count": 58,
   "id": "0defa146",
   "metadata": {},
   "outputs": [
    {
     "name": "stdout",
     "output_type": "stream",
     "text": [
      "1.2857142857142858\n"
     ]
    }
   ],
   "source": [
    "waktu_sampai(90,70) "
   ]
  },
  {
   "cell_type": "code",
   "execution_count": 59,
   "id": "959fddea",
   "metadata": {},
   "outputs": [
    {
     "data": {
      "text/plain": [
       "1.2857142857142858"
      ]
     },
     "execution_count": 59,
     "metadata": {},
     "output_type": "execute_result"
    }
   ],
   "source": [
    "waktu_tempuh(90,70) "
   ]
  },
  {
   "cell_type": "code",
   "execution_count": 60,
   "id": "a38d7e3b",
   "metadata": {},
   "outputs": [
    {
     "ename": "TypeError",
     "evalue": "waktu_sampai() missing 1 required positional argument: 'kecepatan'",
     "output_type": "error",
     "traceback": [
      "\u001b[1;31m---------------------------------------------------------------------------\u001b[0m",
      "\u001b[1;31mTypeError\u001b[0m                                 Traceback (most recent call last)",
      "\u001b[1;32m~\\AppData\\Local\\Temp/ipykernel_196840/578314410.py\u001b[0m in \u001b[0;36m<module>\u001b[1;34m\u001b[0m\n\u001b[1;32m----> 1\u001b[1;33m \u001b[0ma\u001b[0m \u001b[1;33m=\u001b[0m \u001b[0mwaktu_sampai\u001b[0m\u001b[1;33m(\u001b[0m\u001b[1;36m90\u001b[0m\u001b[1;33m/\u001b[0m\u001b[1;36m70\u001b[0m\u001b[1;33m)\u001b[0m\u001b[1;33m\u001b[0m\u001b[1;33m\u001b[0m\u001b[0m\n\u001b[0m\u001b[0;32m      2\u001b[0m \u001b[0mprint\u001b[0m\u001b[1;33m(\u001b[0m\u001b[0ma\u001b[0m\u001b[1;33m)\u001b[0m\u001b[1;33m\u001b[0m\u001b[1;33m\u001b[0m\u001b[0m\n",
      "\u001b[1;31mTypeError\u001b[0m: waktu_sampai() missing 1 required positional argument: 'kecepatan'"
     ]
    }
   ],
   "source": [
    "a = waktu_sampai(90/70)\n",
    "print(a) "
   ]
  },
  {
   "cell_type": "code",
   "execution_count": 61,
   "id": "b17a8926",
   "metadata": {},
   "outputs": [
    {
     "name": "stdout",
     "output_type": "stream",
     "text": [
      "1.2857142857142858\n"
     ]
    }
   ],
   "source": [
    "b = waktu_tempuh(90,70)\n",
    "print(b) "
   ]
  },
  {
   "cell_type": "code",
   "execution_count": 62,
   "id": "81ae88d0",
   "metadata": {},
   "outputs": [],
   "source": [
    "import numpy as np "
   ]
  },
  {
   "cell_type": "code",
   "execution_count": 63,
   "id": "67d82fa2",
   "metadata": {},
   "outputs": [],
   "source": [
    "def luas_segitiga(alas,tinggi): \n",
    "    luas = (1/2)*alas*tinggi \n",
    "    return luas \n",
    "def luas_lingkaran(jari_jari):\n",
    "    luas = np.pi*(jari_jari**2)\n",
    "    return luas \n",
    "def luas_persegi(sisi): \n",
    "    luas = sisi**2\n",
    "    return luas \n",
    "def luas_persegi_panjang(panjang,lebar): \n",
    "    luas = panjang*lebar \n",
    "    return luas "
   ]
  },
  {
   "cell_type": "code",
   "execution_count": 65,
   "id": "6de508ca",
   "metadata": {},
   "outputs": [
    {
     "name": "stdout",
     "output_type": "stream",
     "text": [
      "Tulis jenis bidangnya jajargenjang \n",
      " Maaf bidang jajargenjang  yang anda masukkan tidak ada.\n",
      "Pilihan cuma SEGITUGA,LINGKARAN, PERSEGI dan PERSEGI PANJANG.\n",
      "Terimakasih\n"
     ]
    }
   ],
   "source": [
    "jenis_bidang = input(\"Tulis jenis bidangnya \") \n",
    "if jenis_bidang.upper() == 'SEGITIGA':\n",
    "    alas = float(input('Berapakah panjang alasnya?')) \n",
    "    tinggi = float(input('Berapakah tingginya? ')) \n",
    "    luas = luas_segitiga(alas,tinggi) \n",
    "    print(f\"Luas {jenis_bidang} adalah {luas}\") \n",
    "elif jenis_bidang.upper() == 'LINGKARAN': \n",
    "    jari_jari = float(input('Berapakah panjang jari_jarinya? ')) \n",
    "    luas = luas_lingkaran(jari_jari) \n",
    "    print(f\"Luas {jenis_bidang} adalah {luas}\") \n",
    "elif (jenis_bidang.upper() == 'PERSEGI') or (jenis_bidang.upper() == 'BUJUR SANGKAR'): \n",
    "    sisi = float(input('Berapakah panjang sisinya?')) \n",
    "    luas = luas_persegi(sisi) \n",
    "    print(f\"Luas {jenis_bidang} adalah {luas}\")\n",
    "elif jenis_bidang.upper() == 'PERSEGI PANJANG': \n",
    "    panjang = float(input('Berapakah panjangnya?')) \n",
    "    lebar = float(input('Berapakh lebarnya?')) \n",
    "    luas = luas_persegi_panjang(panjang,lebar) \n",
    "    print(f\" Luas {jenis_bidang} adalah {luas}\") \n",
    "else: \n",
    "    print(f\" Maaf bidang {jenis_bidang} yang anda masukkan tidak ada.\") \n",
    "    print(\"Pilihan cuma SEGITUGA,LINGKARAN, PERSEGI dan PERSEGI PANJANG.\") \n",
    "    print('Terimakasih') "
   ]
  },
  {
   "cell_type": "code",
   "execution_count": null,
   "id": "578a6d31",
   "metadata": {},
   "outputs": [],
   "source": []
  }
 ],
 "metadata": {
  "kernelspec": {
   "display_name": "Python 3 (ipykernel)",
   "language": "python",
   "name": "python3"
  },
  "language_info": {
   "codemirror_mode": {
    "name": "ipython",
    "version": 3
   },
   "file_extension": ".py",
   "mimetype": "text/x-python",
   "name": "python",
   "nbconvert_exporter": "python",
   "pygments_lexer": "ipython3",
   "version": "3.9.7"
  }
 },
 "nbformat": 4,
 "nbformat_minor": 5
}
