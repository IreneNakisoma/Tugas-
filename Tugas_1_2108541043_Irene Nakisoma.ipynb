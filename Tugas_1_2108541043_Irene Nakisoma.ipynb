{
 "cells": [
  {
   "cell_type": "code",
   "execution_count": 1,
   "id": "57bbd07e",
   "metadata": {},
   "outputs": [
    {
     "name": "stdout",
     "output_type": "stream",
     "text": [
      "ini kelas Algoritma!\n"
     ]
    }
   ],
   "source": [
    "print ('ini kelas Algoritma!') "
   ]
  },
  {
   "cell_type": "code",
   "execution_count": 2,
   "id": "3cab6a2e",
   "metadata": {},
   "outputs": [
    {
     "name": "stdout",
     "output_type": "stream",
     "text": [
      "ini kelas algoritma!\n"
     ]
    }
   ],
   "source": [
    "print (\"ini kelas algoritma!\") "
   ]
  },
  {
   "cell_type": "code",
   "execution_count": 3,
   "id": "bc45f37d",
   "metadata": {},
   "outputs": [
    {
     "name": "stdout",
     "output_type": "stream",
     "text": [
      " I don't understant what are you saying\n"
     ]
    }
   ],
   "source": [
    "print(\" I don't understant what are you saying\") "
   ]
  },
  {
   "cell_type": "code",
   "execution_count": 6,
   "id": "0184e97f",
   "metadata": {},
   "outputs": [
    {
     "ename": "SyntaxError",
     "evalue": "invalid syntax (Temp/ipykernel_34264/2915072646.py, line 1)",
     "output_type": "error",
     "traceback": [
      "\u001b[1;36m  File \u001b[1;32m\"C:\\Users\\ASUS\\AppData\\Local\\Temp/ipykernel_34264/2915072646.py\"\u001b[1;36m, line \u001b[1;32m1\u001b[0m\n\u001b[1;33m    print('I don't understant what are you saying')\u001b[0m\n\u001b[1;37m                 ^\u001b[0m\n\u001b[1;31mSyntaxError\u001b[0m\u001b[1;31m:\u001b[0m invalid syntax\n"
     ]
    }
   ],
   "source": [
    "print('I don't understant what are you saying') "
   ]
  },
  {
   "cell_type": "code",
   "execution_count": 7,
   "id": "3c784496",
   "metadata": {},
   "outputs": [
    {
     "name": "stdout",
     "output_type": "stream",
     "text": [
      "He is such a \"GENIUS\"\n"
     ]
    }
   ],
   "source": [
    "print('He is such a \"GENIUS\"') "
   ]
  },
  {
   "cell_type": "code",
   "execution_count": 8,
   "id": "0d225d0f",
   "metadata": {},
   "outputs": [
    {
     "ename": "SyntaxError",
     "evalue": "invalid syntax (Temp/ipykernel_34264/4209300773.py, line 1)",
     "output_type": "error",
     "traceback": [
      "\u001b[1;36m  File \u001b[1;32m\"C:\\Users\\ASUS\\AppData\\Local\\Temp/ipykernel_34264/4209300773.py\"\u001b[1;36m, line \u001b[1;32m1\u001b[0m\n\u001b[1;33m    print(\"He is such a \"GENIUS\"\")\u001b[0m\n\u001b[1;37m                         ^\u001b[0m\n\u001b[1;31mSyntaxError\u001b[0m\u001b[1;31m:\u001b[0m invalid syntax\n"
     ]
    }
   ],
   "source": [
    "print(\"He is such a \"GENIUS\"\") "
   ]
  },
  {
   "cell_type": "code",
   "execution_count": 9,
   "id": "193d4124",
   "metadata": {},
   "outputs": [
    {
     "name": "stdout",
     "output_type": "stream",
     "text": [
      "82\n",
      "10000\n",
      "820000\n"
     ]
    }
   ],
   "source": [
    "mahasiswa=82\n",
    "uang_di_dompet = 10000\n",
    "print(mahasiswa)\n",
    "print(uang_di_dompet)\n",
    "print(mahasiswa*uang_di_dompet) "
   ]
  },
  {
   "cell_type": "code",
   "execution_count": 11,
   "id": "6eb7c4f2",
   "metadata": {},
   "outputs": [
    {
     "name": "stdout",
     "output_type": "stream",
     "text": [
      "IrenePratiwiYorman\n"
     ]
    }
   ],
   "source": [
    "nama_depan = 'Irene'\n",
    "nama_tengah = 'Pratiwi' \n",
    "nama_belakang = 'Yorman'\n",
    "print(nama_depan + nama_tengah + nama_belakang) "
   ]
  },
  {
   "cell_type": "code",
   "execution_count": 12,
   "id": "a00adfb3",
   "metadata": {},
   "outputs": [
    {
     "name": "stdout",
     "output_type": "stream",
     "text": [
      "Siapakah nama anda? iren \n",
      "Apakah kegiatan anda sekarang,iren ?buat tugas \n",
      "Semangatbuat tugas nya yah, iren !\n"
     ]
    }
   ],
   "source": [
    "nama = input (\"Siapakah nama anda? \")\n",
    "kegiatan = input('Apakah kegiatan anda sekarang,' + nama +\"?\")\n",
    "print(\"Semangat\" + kegiatan +\"nya yah, \" + nama + \"!\") "
   ]
  },
  {
   "cell_type": "code",
   "execution_count": 13,
   "id": "30e7e863",
   "metadata": {},
   "outputs": [
    {
     "name": "stdout",
     "output_type": "stream",
     "text": [
      "Berapakah jumlah uang di dompet anda?50000\n",
      "Berapakah jumlah uang anda di bank?200000\n",
      "Total uang anda adalah Rp 50000200000\n"
     ]
    }
   ],
   "source": [
    "uang_di_dompet = input(\"Berapakah jumlah uang di dompet anda?\") \n",
    "uang_di_bank = input (\"Berapakah jumlah uang anda di bank?\") \n",
    "print(\"Total uang anda adalah Rp \" + uang_di_dompet + uang_di_bank) "
   ]
  },
  {
   "cell_type": "code",
   "execution_count": 14,
   "id": "64c2d758",
   "metadata": {},
   "outputs": [
    {
     "name": "stdout",
     "output_type": "stream",
     "text": [
      "Berapakah jumlah uang di dompet anda?50000\n",
      "Berapakah jumlah uang anda di bank?200000\n",
      "Total uang anda adalah Rp 250000\n"
     ]
    }
   ],
   "source": [
    "uang_di_dompet = input(\"Berapakah jumlah uang di dompet anda?\")\n",
    "uang_di_bank = input (\"Berapakah jumlah uang anda di bank?\") \n",
    "total_uang = int (uang_di_dompet) + int (uang_di_bank) \n",
    "print(\"Total uang anda adalah Rp \" + str(total_uang)) "
   ]
  },
  {
   "cell_type": "code",
   "execution_count": 15,
   "id": "38a43b57",
   "metadata": {},
   "outputs": [
    {
     "data": {
      "text/plain": [
       "str"
      ]
     },
     "execution_count": 15,
     "metadata": {},
     "output_type": "execute_result"
    }
   ],
   "source": [
    "type(uang_di_dompet) "
   ]
  },
  {
   "cell_type": "code",
   "execution_count": 16,
   "id": "6539801d",
   "metadata": {},
   "outputs": [
    {
     "data": {
      "text/plain": [
       "str"
      ]
     },
     "execution_count": 16,
     "metadata": {},
     "output_type": "execute_result"
    }
   ],
   "source": [
    "type(uang_di_bank) "
   ]
  },
  {
   "cell_type": "code",
   "execution_count": 17,
   "id": "918dbef9",
   "metadata": {},
   "outputs": [
    {
     "data": {
      "text/plain": [
       "int"
      ]
     },
     "execution_count": 17,
     "metadata": {},
     "output_type": "execute_result"
    }
   ],
   "source": [
    "type(total_uang) "
   ]
  },
  {
   "cell_type": "code",
   "execution_count": 19,
   "id": "f5c15e1a",
   "metadata": {},
   "outputs": [
    {
     "name": "stdout",
     "output_type": "stream",
     "text": [
      "Masukkan bilangan pertama:7\n",
      "Masukkan bilangan kedua:4\n",
      "Jumlah kedua bilangan adalah11.0\n"
     ]
    }
   ],
   "source": [
    "bilangan_satu= input (\"Masukkan bilangan pertama:\") \n",
    "bilangan_kedua = input (\"Masukkan bilangan kedua:\") \n",
    "jumlah = float(bilangan_satu) + float(bilangan_kedua) \n",
    "print(\"Jumlah kedua bilangan adalah\" +str(jumlah)) "
   ]
  },
  {
   "cell_type": "code",
   "execution_count": 20,
   "id": "41007542",
   "metadata": {},
   "outputs": [
    {
     "name": "stdout",
     "output_type": "stream",
     "text": [
      "Bungaadalah seorang DokterdiRS Udayana.\n"
     ]
    }
   ],
   "source": [
    "nama = \"Bunga\" \n",
    "pekerjaan = \"Dokter\"\n",
    "institusi = \"RS Udayana\"\n",
    "print(nama+ 'adalah seorang ' + pekerjaan + 'di' + institusi + '.') "
   ]
  },
  {
   "cell_type": "code",
   "execution_count": 22,
   "id": "9698e3b8",
   "metadata": {},
   "outputs": [
    {
     "name": "stdout",
     "output_type": "stream",
     "text": [
      "Bunga adalah seorang Dokter di RS Udayana.\n"
     ]
    }
   ],
   "source": [
    "print (f'{nama} adalah seorang {pekerjaan} di {institusi}.') "
   ]
  },
  {
   "cell_type": "code",
   "execution_count": 23,
   "id": "3f1dd803",
   "metadata": {},
   "outputs": [
    {
     "name": "stdout",
     "output_type": "stream",
     "text": [
      "Bunga adalah seorangn Dokter di RS Udayana  \n"
     ]
    }
   ],
   "source": [
    "print(f\"{nama} adalah seorangn {pekerjaan} di {institusi}  \") "
   ]
  },
  {
   "cell_type": "code",
   "execution_count": 24,
   "id": "1516eaaf",
   "metadata": {},
   "outputs": [],
   "source": [
    "kelas = 'ini kelas algoritma'"
   ]
  },
  {
   "cell_type": "code",
   "execution_count": 25,
   "id": "2cc6c079",
   "metadata": {},
   "outputs": [
    {
     "name": "stdout",
     "output_type": "stream",
     "text": [
      "ini \n"
     ]
    }
   ],
   "source": [
    "print(kelas[0:4]) "
   ]
  },
  {
   "cell_type": "code",
   "execution_count": 26,
   "id": "ffa76b4e",
   "metadata": {},
   "outputs": [
    {
     "name": "stdout",
     "output_type": "stream",
     "text": [
      "ini kelas algorit\n"
     ]
    }
   ],
   "source": [
    "print(kelas[0:-2]) "
   ]
  },
  {
   "cell_type": "code",
   "execution_count": 27,
   "id": "6e0665be",
   "metadata": {},
   "outputs": [
    {
     "name": "stdout",
     "output_type": "stream",
     "text": [
      "kelas algorit\n"
     ]
    }
   ],
   "source": [
    "print(kelas[4:-2]) "
   ]
  },
  {
   "cell_type": "code",
   "execution_count": 28,
   "id": "f93ed965",
   "metadata": {},
   "outputs": [
    {
     "name": "stdout",
     "output_type": "stream",
     "text": [
      "iklsagr\n"
     ]
    }
   ],
   "source": [
    "print(kelas[2:-3:2]) "
   ]
  },
  {
   "cell_type": "code",
   "execution_count": 29,
   "id": "63de6b07",
   "metadata": {},
   "outputs": [
    {
     "name": "stdout",
     "output_type": "stream",
     "text": [
      "ini kelas algori\n"
     ]
    }
   ],
   "source": [
    "print(kelas[:-3]) "
   ]
  },
  {
   "cell_type": "code",
   "execution_count": 30,
   "id": "910991c8",
   "metadata": {},
   "outputs": [
    {
     "name": "stdout",
     "output_type": "stream",
     "text": [
      "ni kelas algoritma\n"
     ]
    }
   ],
   "source": [
    "print(kelas[1:]) "
   ]
  },
  {
   "cell_type": "code",
   "execution_count": 31,
   "id": "50b92d9e",
   "metadata": {},
   "outputs": [
    {
     "name": "stdout",
     "output_type": "stream",
     "text": [
      "ini kelas algoritma\n"
     ]
    }
   ],
   "source": [
    "print(kelas[:]) "
   ]
  },
  {
   "cell_type": "code",
   "execution_count": 32,
   "id": "55a38cba",
   "metadata": {},
   "outputs": [],
   "source": [
    "judul = 'Matematika Ilmu Menyenangkan'"
   ]
  },
  {
   "cell_type": "code",
   "execution_count": 33,
   "id": "ae7b5c80",
   "metadata": {},
   "outputs": [
    {
     "name": "stdout",
     "output_type": "stream",
     "text": [
      "28\n"
     ]
    }
   ],
   "source": [
    "print(len(judul)) "
   ]
  },
  {
   "cell_type": "code",
   "execution_count": 34,
   "id": "1d55456a",
   "metadata": {},
   "outputs": [
    {
     "data": {
      "text/plain": [
       "'MATEMATIKA ILMU MENYENANGKAN'"
      ]
     },
     "execution_count": 34,
     "metadata": {},
     "output_type": "execute_result"
    }
   ],
   "source": [
    "judul.upper() "
   ]
  },
  {
   "cell_type": "code",
   "execution_count": 35,
   "id": "083b8896",
   "metadata": {},
   "outputs": [
    {
     "data": {
      "text/plain": [
       "'matematika ilmu menyenangkan'"
      ]
     },
     "execution_count": 35,
     "metadata": {},
     "output_type": "execute_result"
    }
   ],
   "source": [
    "judul.lower() "
   ]
  },
  {
   "cell_type": "code",
   "execution_count": 37,
   "id": "49cc8537",
   "metadata": {},
   "outputs": [
    {
     "data": {
      "text/plain": [
       "11"
      ]
     },
     "execution_count": 37,
     "metadata": {},
     "output_type": "execute_result"
    }
   ],
   "source": [
    "judul.find('Ilmu') "
   ]
  },
  {
   "cell_type": "code",
   "execution_count": 38,
   "id": "9aed7d65",
   "metadata": {},
   "outputs": [
    {
     "data": {
      "text/plain": [
       "-1"
      ]
     },
     "execution_count": 38,
     "metadata": {},
     "output_type": "execute_result"
    }
   ],
   "source": [
    "judul.find('matematika') "
   ]
  },
  {
   "cell_type": "code",
   "execution_count": 39,
   "id": "d2e58278",
   "metadata": {},
   "outputs": [
    {
     "data": {
      "text/plain": [
       "'Menyenangkan Ilmu Menyenangkan'"
      ]
     },
     "execution_count": 39,
     "metadata": {},
     "output_type": "execute_result"
    }
   ],
   "source": [
    "judul.replace('Matematika','Menyenangkan') "
   ]
  },
  {
   "cell_type": "code",
   "execution_count": 40,
   "id": "c7fcdcea",
   "metadata": {},
   "outputs": [
    {
     "data": {
      "text/plain": [
       "'Matematika Ilmu Menyenangkan'"
      ]
     },
     "execution_count": 40,
     "metadata": {},
     "output_type": "execute_result"
    }
   ],
   "source": [
    "judul.replace('matematika', 'menyenagkan') "
   ]
  },
  {
   "cell_type": "code",
   "execution_count": 42,
   "id": "5c0c1320",
   "metadata": {},
   "outputs": [
    {
     "name": "stdout",
     "output_type": "stream",
     "text": [
      "True\n"
     ]
    }
   ],
   "source": [
    "print('Matematika' in judul) "
   ]
  },
  {
   "cell_type": "code",
   "execution_count": 43,
   "id": "bc19e695",
   "metadata": {},
   "outputs": [
    {
     "name": "stdout",
     "output_type": "stream",
     "text": [
      "False\n"
     ]
    }
   ],
   "source": [
    "print('matematika' in judul) "
   ]
  },
  {
   "cell_type": "code",
   "execution_count": 44,
   "id": "67d8c412",
   "metadata": {},
   "outputs": [
    {
     "name": "stdout",
     "output_type": "stream",
     "text": [
      "7\n",
      "-1\n",
      "12\n",
      "2.0\n",
      "2\n",
      "0\n",
      "81\n",
      "4\n",
      "2\n",
      "6\n"
     ]
    }
   ],
   "source": [
    "print(3+4) \n",
    "print(3-4) \n",
    "print(3*4) \n",
    "print(8/4) \n",
    "print(8//4) \n",
    "print(8%4) \n",
    "print(3**4) \n",
    "x=3\n",
    "x+=1\n",
    "print(x) \n",
    "x-=2\n",
    "print(x)\n",
    "x*=3\n",
    "print(x) "
   ]
  },
  {
   "cell_type": "code",
   "execution_count": 45,
   "id": "8eae0118",
   "metadata": {},
   "outputs": [
    {
     "name": "stdout",
     "output_type": "stream",
     "text": [
      "True\n",
      "True\n",
      "True\n",
      "True\n",
      "True\n",
      "True\n"
     ]
    }
   ],
   "source": [
    "x= 3>2\n",
    "print(x)\n",
    "x= 2<3\n",
    "print(x)\n",
    "x=3 >=2\n",
    "print(x) \n",
    "x=2 <=3\n",
    "print(x)\n",
    "x=3 ==3\n",
    "print(x)\n",
    "x=3 !=4\n",
    "print(x)\n"
   ]
  },
  {
   "cell_type": "code",
   "execution_count": 46,
   "id": "d4f0410b",
   "metadata": {},
   "outputs": [
    {
     "name": "stdout",
     "output_type": "stream",
     "text": [
      "False\n",
      "False\n",
      "False\n",
      "False\n",
      "False\n",
      "False\n"
     ]
    }
   ],
   "source": [
    "x= 2>3 \n",
    "print(x)\n",
    "x= 3<2\n",
    "print(x) \n",
    "x=2 >=3\n",
    "print (x)\n",
    "x=3 <=2\n",
    "print(x)\n",
    "x=3 ==4\n",
    "print(x)\n",
    "x=3 !=3\n",
    "print(x) "
   ]
  },
  {
   "cell_type": "code",
   "execution_count": 47,
   "id": "68453e84",
   "metadata": {},
   "outputs": [
    {
     "name": "stdout",
     "output_type": "stream",
     "text": [
      "True\n"
     ]
    }
   ],
   "source": [
    "buah_jeruk = 15\n",
    "buah_mangga = 20\n",
    "print(buah_jeruk > 10 and buah_mangga < 22) "
   ]
  },
  {
   "cell_type": "code",
   "execution_count": 48,
   "id": "186b6d49",
   "metadata": {},
   "outputs": [
    {
     "name": "stdout",
     "output_type": "stream",
     "text": [
      "True\n"
     ]
    }
   ],
   "source": [
    "print(buah_jeruk < 10 or buah_mangga < 22) "
   ]
  },
  {
   "cell_type": "code",
   "execution_count": 50,
   "id": "23f725ca",
   "metadata": {},
   "outputs": [
    {
     "name": "stdout",
     "output_type": "stream",
     "text": [
      "False\n"
     ]
    }
   ],
   "source": [
    "print(buah_jeruk < 10 or buah_mangga > 22) "
   ]
  },
  {
   "cell_type": "code",
   "execution_count": 51,
   "id": "ed538340",
   "metadata": {},
   "outputs": [
    {
     "name": "stdout",
     "output_type": "stream",
     "text": [
      "True\n"
     ]
    }
   ],
   "source": [
    "print(not (buah_jeruk <10 or buah_mangga > 22)) "
   ]
  },
  {
   "cell_type": "code",
   "execution_count": 52,
   "id": "3211ebaa",
   "metadata": {},
   "outputs": [
    {
     "name": "stdout",
     "output_type": "stream",
     "text": [
      "Nilai anda adalah90\n",
      "Anda mendapatkan nilai A\n",
      "Bagus sekali, selamat!\n"
     ]
    }
   ],
   "source": [
    "nilai = float ( input (\"Nilai anda adalah\"))\n",
    "if nilai >= 90:\n",
    "    print(\"Anda mendapatkan nilai A\")\n",
    "    print(\"Bagus sekali, selamat!\") \n",
    "if nilai < 90 and nilai >=80:\n",
    "    print(\"Anda mendapatkan nilai B\") \n",
    "    print(\"Tingkatkan prestasimu!\") \n",
    "if nilai >=70 and nilai <80:\n",
    "    print(\"Anda mendapatkan nilai C\") \n",
    "    print(\"Lain kali musti lebih baik\")\n",
    "if nilai >=60 and nilai <70:\n",
    "    print(\"Anda mendapatkan nilai D\") \n",
    "    print(\"Ulang lagi tahun depan\") \n",
    "if nilai <50:\n",
    "    print(\"Anda mendapatkan nilai E\")\n",
    "    print(\"Sampai jumppa tahun depan\") "
   ]
  },
  {
   "cell_type": "code",
   "execution_count": 53,
   "id": "bcb6d446",
   "metadata": {},
   "outputs": [
    {
     "name": "stdout",
     "output_type": "stream",
     "text": [
      "Nilai anda adalah 70\n",
      "Anda mendapatkan nilai B\n",
      "Tingkatkan prestasimu!\n"
     ]
    }
   ],
   "source": [
    "nilai = float(input(\"Nilai anda adalah \"))\n",
    "if nilai >=80:\n",
    "    print(\"Anda mendapatkan nilai A\")\n",
    "    print(\"Bagus sekali, selamat!\")\n",
    "elif nilai >=70:\n",
    "    print(\"Anda mendapatkan nilai B\")\n",
    "    print(\"Tingkatkan prestasimu!\") \n",
    "elif nilai >=60:\n",
    "    print(\"Anda mendapatkan nilai C\")\n",
    "    print(\"Lain kali musti lebih baik\") \n",
    "elif nilai >=50:\n",
    "    print(\"Anda mendapatkan nilai D\")\n",
    "    print(\"Ulang lagi tahun depan\")\n",
    "else:\n",
    "    print(\"Anda mendapatkan nilai E\")\n",
    "    print(\"Sampai jumpa tahun depan\") "
   ]
  },
  {
   "cell_type": "code",
   "execution_count": 60,
   "id": "9643adf8",
   "metadata": {},
   "outputs": [
    {
     "name": "stdout",
     "output_type": "stream",
     "text": [
      "Berapakah tinggi anda?160\n",
      "Tingginya dalam cm atau inci?Cm\n",
      "Tinggi anda adalah 62.992160000000005inci\n"
     ]
    }
   ],
   "source": [
    "tinggi = float(input(\"Berapakah tinggi anda?\")) \n",
    "cm_atau_inci =input (\"Tingginya dalam cm atau inci?\") \n",
    "if cm_atau_inci.upper() == 'CM':\n",
    "    tinggi = tinggi*0.393701\n",
    "    print(\"Tinggi anda adalah \" + str(tinggi) + \"inci\")\n",
    "elif cm_atau_inci.upper() == 'INCI' :\n",
    "    tinggi = tinggi/0.393701 \n",
    "    print(f\"Tinggi anda adalah {tinggi} cm \") "
   ]
  },
  {
   "cell_type": "code",
   "execution_count": 57,
   "id": "e7e2eb2c",
   "metadata": {},
   "outputs": [
    {
     "name": "stdout",
     "output_type": "stream",
     "text": [
      "Angka 0masih dibawah 6\n",
      "Angka 1masih dibawah 6\n",
      "Angka 2masih dibawah 6\n",
      "Angka 3masih dibawah 6\n",
      "Angka 4masih dibawah 6\n",
      "Angka 5masih dibawah 6\n"
     ]
    }
   ],
   "source": [
    "a = 0 \n",
    "while a<6:\n",
    "    print(\"Angka \" + str(a)+ \"masih dibawah 6\") \n",
    "    a +=1 "
   ]
  },
  {
   "cell_type": "code",
   "execution_count": 59,
   "id": "c9a2fd4b",
   "metadata": {},
   "outputs": [
    {
     "name": "stdout",
     "output_type": "stream",
     "text": [
      "\n",
      "*\n",
      "**\n",
      "***\n",
      "****\n",
      "*****\n",
      "******\n"
     ]
    }
   ],
   "source": [
    "a=0 \n",
    "while a<7:\n",
    "    print(a* '*') \n",
    "    a +=1 "
   ]
  },
  {
   "cell_type": "code",
   "execution_count": null,
   "id": "223743de",
   "metadata": {},
   "outputs": [],
   "source": []
  }
 ],
 "metadata": {
  "kernelspec": {
   "display_name": "Python 3 (ipykernel)",
   "language": "python",
   "name": "python3"
  },
  "language_info": {
   "codemirror_mode": {
    "name": "ipython",
    "version": 3
   },
   "file_extension": ".py",
   "mimetype": "text/x-python",
   "name": "python",
   "nbconvert_exporter": "python",
   "pygments_lexer": "ipython3",
   "version": "3.9.7"
  }
 },
 "nbformat": 4,
 "nbformat_minor": 5
}
